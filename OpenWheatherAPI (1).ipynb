{
 "cells": [
  {
   "cell_type": "code",
   "execution_count": 1,
   "id": "1af4ebda",
   "metadata": {},
   "outputs": [],
   "source": [
    "import requests\n",
    "import pandas as pd\n",
    "import matplotlib.pyplot as plt\n"
   ]
  },
  {
   "cell_type": "code",
   "execution_count": 25,
   "id": "a49f3ba6",
   "metadata": {},
   "outputs": [],
   "source": [
    "api_key = '5605a1a7a610199980838a42c30cf400'  # Replace with your API key\n",
    "city = 'London'\n",
    "url = f\"http://api.openweathermap.org/data/2.5/weather?q={city}&appid={api_key}&units=metrics\"\n"
   ]
  },
  {
   "cell_type": "code",
   "execution_count": 26,
   "id": "d1b7093c",
   "metadata": {},
   "outputs": [
    {
     "data": {
      "text/plain": [
       "{'coord': {'lon': -0.1257, 'lat': 51.5085},\n",
       " 'weather': [{'id': 804,\n",
       "   'main': 'Clouds',\n",
       "   'description': 'overcast clouds',\n",
       "   'icon': '04n'}],\n",
       " 'base': 'stations',\n",
       " 'main': {'temp': 284.85,\n",
       "  'feels_like': 284.35,\n",
       "  'temp_min': 283.96,\n",
       "  'temp_max': 285.37,\n",
       "  'pressure': 1029,\n",
       "  'humidity': 87,\n",
       "  'sea_level': 1029,\n",
       "  'grnd_level': 1026},\n",
       " 'visibility': 10000,\n",
       " 'wind': {'speed': 2.06, 'deg': 30},\n",
       " 'clouds': {'all': 100},\n",
       " 'dt': 1730519928,\n",
       " 'sys': {'type': 2,\n",
       "  'id': 2075535,\n",
       "  'country': 'GB',\n",
       "  'sunrise': 1730530576,\n",
       "  'sunset': 1730565106},\n",
       " 'timezone': 0,\n",
       " 'id': 2643743,\n",
       " 'name': 'London',\n",
       " 'cod': 200}"
      ]
     },
     "execution_count": 26,
     "metadata": {},
     "output_type": "execute_result"
    }
   ],
   "source": [
    "response = requests.get(url)\n",
    "weather_data = response.json()\n",
    "weather_data"
   ]
  },
  {
   "cell_type": "code",
   "execution_count": 4,
   "id": "9e1003b4",
   "metadata": {},
   "outputs": [
    {
     "name": "stdout",
     "output_type": "stream",
     "text": [
      "{'Temperature (°C)': 11.7, 'Humidity (%)': 86, 'Wind Speed (m/s)': 2.06, 'Weather': 'overcast clouds'}\n"
     ]
    }
   ],
   "source": [
    "def extract_weather_attributes(data):\n",
    "    return {\n",
    "        \"Temperature (°C)\": data['main']['temp'],\n",
    "        \"Humidity (%)\": data['main']['humidity'],\n",
    "        \"Wind Speed (m/s)\": data['wind']['speed'],\n",
    "        \"Weather\": data['weather'][0]['description']\n",
    "    }\n",
    "\n",
    "weather_attributes = extract_weather_attributes(weather_data)\n",
    "print(weather_attributes)"
   ]
  },
  {
   "cell_type": "code",
   "execution_count": 5,
   "id": "5bc720d0",
   "metadata": {},
   "outputs": [
    {
     "name": "stdout",
     "output_type": "stream",
     "text": [
      "   Temperature (°C)  Humidity (%)  Wind Speed (m/s)          Weather\n",
      "0              11.7            86              2.06  overcast clouds\n"
     ]
    },
    {
     "name": "stderr",
     "output_type": "stream",
     "text": [
      "C:\\Users\\asus\\AppData\\Local\\Temp\\ipykernel_14448\\3878946380.py:5: FutureWarning: DataFrame.fillna with 'method' is deprecated and will raise in a future version. Use obj.ffill() or obj.bfill() instead.\n",
      "  df.fillna(method='ffill', inplace=True)\n"
     ]
    }
   ],
   "source": [
    "# Convert the extracted weather data into a DataFrame\n",
    "df = pd.DataFrame([weather_attributes])\n",
    "\n",
    "# Ensure there are no missing values (though this is rare in this case)\n",
    "df.fillna(method='ffill', inplace=True)\n",
    "print(df)"
   ]
  },
  {
   "cell_type": "code",
   "execution_count": 6,
   "id": "a6fd2e84",
   "metadata": {},
   "outputs": [
    {
     "name": "stdout",
     "output_type": "stream",
     "text": [
      "Average Temperature:  11.7\n"
     ]
    }
   ],
   "source": [
    "print(\"Average Temperature: \", df['Temperature (°C)'].mean())\n"
   ]
  },
  {
   "cell_type": "code",
   "execution_count": 7,
   "id": "f26193de",
   "metadata": {},
   "outputs": [
    {
     "data": {
      "image/png": "[encoded data removed]",
      "text/plain": [
       "<Figure size 640x480 with 1 Axes>"
      ]
     },
     "metadata": {},
     "output_type": "display_data"
    }
   ],
   "source": [
    "df.plot(kind='bar', title=\"Weather Attributes for London\")\n",
    "plt.show()"
   ]
  },
  {
   "cell_type": "code",
   "execution_count": null,
   "id": "fc0b07ee",
   "metadata": {},
   "outputs": [],
   "source": []
  },
  {
   "cell_type": "code",
   "execution_count": null,
   "id": "ea0f7fba",
   "metadata": {},
   "outputs": [],
   "source": []
  }
 ],
 "metadata": {
  "kernelspec": {
   "display_name": "Python 3 (ipykernel)",
   "language": "python",
   "name": "python3"
  },
  "language_info": {
   "codemirror_mode": {
    "name": "ipython",
    "version": 3
   },
   "file_extension": ".py",
   "mimetype": "text/x-python",
   "name": "python",
   "nbconvert_exporter": "python",
   "pygments_lexer": "ipython3",
   "version": "3.11.5"
  }
 },
 "nbformat": 4,
 "nbformat_minor": 5
}
